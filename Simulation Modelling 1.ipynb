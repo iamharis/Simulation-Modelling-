{
 "cells": [
  {
   "cell_type": "markdown",
   "metadata": {},
   "source": [
    "## MIE1613:Stochastic Simulation - HomeWork 1"
   ]
  },
  {
   "cell_type": "markdown",
   "metadata": {},
   "source": [
    "__Name: Hariskrishna Thiruvenkadasamy Venkatesan\n",
    "<br>\n",
    "Student No: 1004217901\n",
    "<br>\n",
    "Dept: Mechanical & Industrial Engineering\n",
    "<br>\n",
    "Prog: MEng__\n",
    "\n"
   ]
  },
  {
   "cell_type": "markdown",
   "metadata": {},
   "source": [
    "__Problem 1__"
   ]
  },
  {
   "cell_type": "markdown",
   "metadata": {},
   "source": [
    "__1a) Exact Expected Value of the Function (X-3)__"
   ]
  },
  {
   "cell_type": "code",
   "execution_count": 134,
   "metadata": {},
   "outputs": [
    {
     "name": "stdout",
     "output_type": "stream",
     "text": [
      "The Actual Value of Integral is: 2.7440581804700983\n"
     ]
    }
   ],
   "source": [
    "import scipy.integrate as integrate\n",
    "Value, Erroe = integrate.quad(lambda x: (x-3)*0.2*np.exp(-0.2*x), 3, float('inf') )\n",
    "print('The Actual Value of Integral is:',Value)\n"
   ]
  },
  {
   "cell_type": "markdown",
   "metadata": {},
   "source": [
    "__1b) Expected Value estimate using Monte Carlo simulation with 95% CI__ "
   ]
  },
  {
   "cell_type": "code",
   "execution_count": 140,
   "metadata": {},
   "outputs": [
    {
     "name": "stdout",
     "output_type": "stream",
     "text": [
      "The Actual Value of Integral is: 2.7440581804700983 \n",
      "\n",
      "The Estimated Expected value of the Function is: 2.7220762910877925 \n",
      "\n",
      "The Standard deviation is: 4.327271181799975 \n",
      "\n",
      "The UCI is: 2.856179814367218 \n",
      "\n",
      "The LCI is: 2.587972767808367\n"
     ]
    }
   ],
   "source": [
    "import numpy as np\n",
    "import matplotlib.pyplot as plt\n",
    "%matplotlib inline\n",
    "\n",
    "np.random.seed(1)\n",
    "\n",
    "# Creation of Empty lists\n",
    "Exp =[]       # list to stores the expected values \n",
    "Iter = []     # list to store the present iteration i \n",
    "SampleAvg =[] # list to save all the sample Avg(for the plot)\n",
    "N = 4000      # No of iteration \n",
    "\n",
    "for i in range(N):\n",
    "    X = np.random.exponential(1/0.2)\n",
    "    if X-3>0:\n",
    "        Exp.append(X-3)\n",
    "    else:\n",
    "        Exp.append(0)\n",
    "    \n",
    "    Iter.append(i)  \n",
    "    SampleAvg.append(np.mean(Exp))\n",
    "\n",
    "# Calculation of CI \n",
    "import statistics\n",
    "mean = np.mean(Exp)\n",
    "stdv = (statistics.stdev(Exp))\n",
    "h = 1.96*(stdv/np.sqrt(N))\n",
    "print('The Actual Value of Integral is:',Value,'\\n')          \n",
    "print('The Estimated Expected value of the Function is:',mean,'\\n')\n",
    "print('The Standard deviation is:',stdv,'\\n')\n",
    "print('The UCI is:',np.mean(Exp)+h,'\\n')\n",
    "print('The LCI is:',np.mean(Exp)-h)   "
   ]
  },
  {
   "cell_type": "markdown",
   "metadata": {},
   "source": [
    "__1c) Plot demonstrating the Convergence of Monte Carlo estimate__"
   ]
  },
  {
   "cell_type": "code",
   "execution_count": 141,
   "metadata": {},
   "outputs": [
    {
     "data": {
      "image/png": "[encoded data removed]",
      "text/plain": [
       "<Figure size 432x288 with 1 Axes>"
      ]
     },
     "metadata": {
      "needs_background": "light"
     },
     "output_type": "display_data"
    }
   ],
   "source": [
    "plt.plot(Iter,SampleAvg)\n",
    "plt.show()"
   ]
  },
  {
   "cell_type": "markdown",
   "metadata": {},
   "source": [
    "__Problem 2(a) (T=1000)__"
   ]
  },
  {
   "cell_type": "markdown",
   "metadata": {},
   "source": [
    "__Logic Used:__ <br>\n",
    "When the states becomes zero, <br>\n",
    "The event \"NextFailure\" is set to infinity, The present value of NextRepair is transferred to a Temp Variable (Which is the next immediate repair/NextEvent) and \"NextRepair\" is updated as \"NextRepair\" + 2.5 (As only one component can be repaired at a time, Also, TempVariable < NextRepair) <br> Now the clock is updated by \"TempVariable\" and \"TempVariable\" is set to infinity"
   ]
  },
  {
   "cell_type": "code",
   "execution_count": 125,
   "metadata": {},
   "outputs": [
    {
     "name": "stdout",
     "output_type": "stream",
     "text": [
      "Simulation Ends at: 998.5\n",
      "Estimated Average No of Functional Components is: 1.1539961013645224\n"
     ]
    }
   ],
   "source": [
    "import numpy as np\n",
    "import matplotlib.pyplot as plt\n",
    "%matplotlib inline\n",
    "np.random.seed(1)\n",
    "\n",
    "clock = 0\n",
    "S=2\n",
    "T = 0\n",
    "States =[2]\n",
    "EventTimes =[0]\n",
    "\n",
    "NextFailure = np.ceil(6*np.random.random())\n",
    "NextRepair = float('inf')\n",
    "TempVar = float('inf')\n",
    "\n",
    "while T<1000:\n",
    "    x=T         #Variable to record the value of clock before the loop begins\n",
    "    \n",
    "    '''Loop for Clock, Min of the three variables(NextRepair, NextFailure and TempVariable) \n",
    "    is updated and clock and set as NextEvent'''\n",
    "    \n",
    "    if NextFailure<=NextRepair and NextFailure<=TempVar:\n",
    "        result = 'Failure'\n",
    "        clock = NextFailure       \n",
    "    elif NextRepair<=NextFailure and NextRepair<=TempVar:\n",
    "        result = 'Repair1'\n",
    "        clock = NextRepair       \n",
    "    elif TempVar<=NextRepair and TempVar<=NextFailure:\n",
    "        result ='Repair2'\n",
    "        clock = TempVar\n",
    "        \n",
    "    #Loop if result = failure\n",
    "    if result == 'Failure':\n",
    "        S=S-1\n",
    "        if S == 1:\n",
    "            NextFailure = clock + np.ceil(6*np.random.random())\n",
    "            NextRepair = clock + 2.5\n",
    "        '''when state is 0, two components has to be repaired, since only one \n",
    "        component can be repaired at a time, the existing value of NextRepair \n",
    "        is transferred to a TemPvariable and NextRepair is updated as NextRepair + 2.5'''\n",
    "        if S == 0: \n",
    "            NextFailure = float('inf')\n",
    "            TempVar = NextRepair\n",
    "            NextRepair = NextRepair + 2.5\n",
    "    \n",
    "    # Loop if Repair(for S = 1)\n",
    "    if result == 'Repair1':\n",
    "        S = S+1\n",
    "        NextRepair = float('inf')\n",
    "    # Loop if Repair(for S = 0 )\n",
    "    if result == 'Repair2':\n",
    "        S = S+1\n",
    "        NextFailure = clock + np.ceil(6*np.random.random())\n",
    "        TempVar = float('inf')\n",
    "    if NextFailure == NextRepair: \n",
    "        print('yes1')\n",
    "    if NextFailure == TempVar:\n",
    "        print('yes2')\n",
    "    if TempVar == NextRepair and TempVar != float('inf'):\n",
    "        print('yes3')\n",
    "    States.append(S)\n",
    "    EventTimes.append(clock)\n",
    "    T = clock\n",
    "\n",
    "print(\"Simulation Ends at:\",x)\n",
    "print('Estimated Average No of Functional Components is:', np.mean(States))"
   ]
  },
  {
   "cell_type": "markdown",
   "metadata": {},
   "source": [
    "__Problem 2(b) (T=2000)__"
   ]
  },
  {
   "cell_type": "code",
   "execution_count": 126,
   "metadata": {},
   "outputs": [
    {
     "name": "stdout",
     "output_type": "stream",
     "text": [
      "Simulation Ends at: 1999.5\n",
      "Estimated Average No of Functional Components is: 1.1648884578079535\n"
     ]
    }
   ],
   "source": [
    "import numpy as np\n",
    "import matplotlib.pyplot as plt\n",
    "%matplotlib inline\n",
    "np.random.seed(1)\n",
    "\n",
    "clock = 0\n",
    "S=2\n",
    "T = 0\n",
    "States =[2]\n",
    "\n",
    "EventTimes =[0]\n",
    "NextFailure = np.ceil(6*np.random.random())\n",
    "NextRepair = float('inf')\n",
    "TempVar = float('inf')\n",
    "\n",
    "while T<2000:\n",
    "    x=T\n",
    "    # Loop for Clock\n",
    "    if NextFailure<NextRepair and NextFailure<TempVar:\n",
    "        result = 'Failure'\n",
    "        clock = NextFailure    \n",
    "    if NextRepair<NextFailure and NextRepair<TempVar:\n",
    "        result = 'Repair1'\n",
    "        clock = NextRepair\n",
    "    if TempVar<NextRepair and TempVar<NextFailure:\n",
    "        result ='Repair2'\n",
    "        clock = TempVar\n",
    "        \n",
    "\n",
    "        # Loop if failure\n",
    "    if result == 'Failure':\n",
    "        S=S-1\n",
    "        if S == 1:\n",
    "            NextFailure = clock + np.ceil(6*np.random.random())\n",
    "            NextRepair = clock + 2.5\n",
    "        if S == 0:\n",
    "            NextFailure = float('inf')\n",
    "            TempVar = NextRepair\n",
    "            NextRepair = NextRepair + 2.5\n",
    "\n",
    "    # Loop if Repair(for S = 1)\n",
    "    if result == 'Repair1':\n",
    "        S = S+1\n",
    "        NextRepair = float('inf')\n",
    "\n",
    "        # Loop if Repair(for S = 0 )\n",
    "    if result == 'Repair2':\n",
    "        S = S+1\n",
    "        NextFailure = clock + np.ceil(6*np.random.random())\n",
    "        TempVar = float('inf')\n",
    "    States.append(S)\n",
    "    EventTimes.append(clock)\n",
    "    T = clock\n",
    "\n",
    "print(\"Simulation Ends at:\",x)\n",
    "print('Estimated Average No of Functional Components is:', np.mean(States))\n",
    "#plt.plot(EventTimes, States, drawstyle = 'steps-post')"
   ]
  },
  {
   "cell_type": "markdown",
   "metadata": {},
   "source": [
    "for T = 1000, the Avg functional component is 1.15 and for T = 2000,the Avg functional component is 1.16<br>\n",
    "The the Time period increases the Average # of functional component converges to 1.16\n"
   ]
  },
  {
   "cell_type": "markdown",
   "metadata": {},
   "source": [
    "__Problem3__"
   ]
  },
  {
   "cell_type": "code",
   "execution_count": 127,
   "metadata": {
    "scrolled": true
   },
   "outputs": [
    {
     "name": "stdout",
     "output_type": "stream",
     "text": [
      "The Estimated Expected value of the Function is: 35.312 \n",
      "\n",
      "The Standard deviation is: 30.04758748241718 \n",
      "\n",
      "The UCI is: 37.17530065025125 \n",
      "\n",
      "The LCI is: 33.44869934974874\n"
     ]
    }
   ],
   "source": [
    "import numpy as np \n",
    "import matplotlib.pyplot as plt \n",
    "\n",
    "# Timer Function to update the clock and determine the NextEvent\n",
    "def Timer():\n",
    "    global clock\n",
    "    global NextRepair\n",
    "    global NextFailure\n",
    "    global TempVar\n",
    "    \n",
    "    if min(NextFailure,NextRepair,TempVar) == NextFailure:\n",
    "        result = 'Failure'\n",
    "        clock = NextFailure\n",
    "    elif min(NextFailure,NextRepair,TempVar) == NextRepair:\n",
    "        result = 'Rep1'\n",
    "        clock = NextRepair   \n",
    "    elif min(NextFailure,NextRepair,TempVar) == TempVar:\n",
    "        result ='Rep2'\n",
    "        clock = TempVar\n",
    "    return result\n",
    "\n",
    "np.random.seed(1)\n",
    "TTF =[]\n",
    "\n",
    "for i in range(1000):  #1000 Replications\n",
    "    \n",
    "    clock = 0\n",
    "    S = 3\n",
    "    \n",
    "    NextFailure = np.ceil(6*np.random.random())\n",
    "    NextRepair = float('inf')\n",
    "    TempVar = float('inf')\n",
    "    \n",
    "    while S>0:\n",
    "        NextEvent = Timer() #Calling the timer funcation to update the EventCalender\n",
    "        \n",
    "        '''\n",
    "        When the Next event is Failure, there can be two scenarios( S = 1 or S = 2),\n",
    "        When S = 2 means only one component is under repair, Hence the NextFailure \n",
    "        and NextRepair will be updated as usual. When S = 1, there is two components\n",
    "        under repair( only one can be repaired at a time), So, the present value in\n",
    "        NextRepair is transferred to a TempVariable(similar to Prob2) and NextRepair\n",
    "        is updated as NextRepair + 3.5\n",
    "        '''\n",
    "        if NextEvent == 'Failure':\n",
    "            S=S-1\n",
    "            if S == 2:\n",
    "                NextFailure = clock + np.ceil(6*np.random.random())\n",
    "                NextRepair = clock + 3.5\n",
    "            elif S == 1:\n",
    "                NextFailure = clock + np.ceil(6*np.random.random())\n",
    "                TempVar = NextRepair\n",
    "                NextRepair = NextRepair +3.5\n",
    "        \n",
    "        elif NextEvent == 'Rep1':\n",
    "            S = S+1\n",
    "            NextRepair = float('inf')\n",
    "        \n",
    "        elif NextEvent == 'Rep2':\n",
    "            S = S+1\n",
    "            TempVar = float('inf')\n",
    "    TTF.append(clock)\n",
    "# Calulation of CI \n",
    "import statistics\n",
    "mean = np.mean(TTF)\n",
    "stdv = (statistics.stdev(TTF))\n",
    "h = 1.96*(stdv/np.sqrt(1000-1))\n",
    "          \n",
    "print('The Estimated Expected value of the Function is:',mean,'\\n')\n",
    "print('The Standard deviation is:',stdv,'\\n')\n",
    "print('The UCI is:',np.mean(TTF)+h,'\\n')\n",
    "print('The LCI is:',np.mean(TTF)-h)           \n",
    "\n"
   ]
  }
 ],
 "metadata": {
  "kernelspec": {
   "display_name": "Python 3",
   "language": "python",
   "name": "python3"
  },
  "language_info": {
   "codemirror_mode": {
    "name": "ipython",
    "version": 3
   },
   "file_extension": ".py",
   "mimetype": "text/x-python",
   "name": "python",
   "nbconvert_exporter": "python",
   "pygments_lexer": "ipython3",
   "version": "3.6.7"
  }
 },
 "nbformat": 4,
 "nbformat_minor": 1
}
